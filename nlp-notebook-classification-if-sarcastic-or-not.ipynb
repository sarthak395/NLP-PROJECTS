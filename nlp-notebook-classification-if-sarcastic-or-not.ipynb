{
 "cells": [
  {
   "cell_type": "code",
   "execution_count": 1,
   "id": "cd4fb3c8",
   "metadata": {
    "_cell_guid": "b1076dfc-b9ad-4769-8c92-a6c4dae69d19",
    "_uuid": "8f2839f25d086af736a60e9eeb907d3b93b6e0e5",
    "execution": {
     "iopub.execute_input": "2023-01-03T11:03:42.603849Z",
     "iopub.status.busy": "2023-01-03T11:03:42.603186Z",
     "iopub.status.idle": "2023-01-03T11:03:42.629324Z",
     "shell.execute_reply": "2023-01-03T11:03:42.628015Z"
    },
    "papermill": {
     "duration": 0.036959,
     "end_time": "2023-01-03T11:03:42.633091",
     "exception": false,
     "start_time": "2023-01-03T11:03:42.596132",
     "status": "completed"
    },
    "tags": []
   },
   "outputs": [
    {
     "name": "stdout",
     "output_type": "stream",
     "text": [
      "/kaggle/input/news-headlines-dataset-for-sarcasm-detection/Sarcasm_Headlines_Dataset_v2.json\n",
      "/kaggle/input/news-headlines-dataset-for-sarcasm-detection/Sarcasm_Headlines_Dataset.json\n"
     ]
    }
   ],
   "source": [
    "# This Python 3 environment comes with many helpful analytics libraries installed\n",
    "# It is defined by the kaggle/python Docker image: https://github.com/kaggle/docker-python\n",
    "# For example, here's several helpful packages to load\n",
    "\n",
    "import numpy as np # linear algebra\n",
    "import pandas as pd # data processing, CSV file I/O (e.g. pd.read_csv)\n",
    "\n",
    "# Input data files are available in the read-only \"../input/\" directory\n",
    "# For example, running this (by clicking run or pres\"sing Shift+Enter) will list all files under the input directory\n",
    "\n",
    "import os\n",
    "for dirname, _, filenames in os.walk('/kaggle/input'):\n",
    "    for filename in filenames:\n",
    "        print(os.path.join(dirname, filename))\n",
    "\n",
    "# You can write up to 20GB to the current directory (/kaggle/working/) that gets preserved as output when you create a version using \"Save & Run All\" \n",
    "# You can also write temporary files to /kaggle/temp/, but they won't be saved outside of the current session"
   ]
  },
  {
   "cell_type": "code",
   "execution_count": 2,
   "id": "bae2dc87",
   "metadata": {
    "execution": {
     "iopub.execute_input": "2023-01-03T11:03:42.642359Z",
     "iopub.status.busy": "2023-01-03T11:03:42.641969Z",
     "iopub.status.idle": "2023-01-03T11:03:50.032052Z",
     "shell.execute_reply": "2023-01-03T11:03:50.030581Z"
    },
    "papermill": {
     "duration": 7.398474,
     "end_time": "2023-01-03T11:03:50.035365",
     "exception": false,
     "start_time": "2023-01-03T11:03:42.636891",
     "status": "completed"
    },
    "tags": []
   },
   "outputs": [],
   "source": [
    "import tensorflow as tf\n",
    "from tensorflow import keras\n",
    "from tensorflow.keras.preprocessing.text import Tokenizer\n",
    "from tensorflow.keras.preprocessing.sequence import pad_sequences"
   ]
  },
  {
   "cell_type": "code",
   "execution_count": 3,
   "id": "1a2f8792",
   "metadata": {
    "execution": {
     "iopub.execute_input": "2023-01-03T11:03:50.045490Z",
     "iopub.status.busy": "2023-01-03T11:03:50.044282Z",
     "iopub.status.idle": "2023-01-03T11:03:50.058366Z",
     "shell.execute_reply": "2023-01-03T11:03:50.056812Z"
    },
    "papermill": {
     "duration": 0.021931,
     "end_time": "2023-01-03T11:03:50.060888",
     "exception": false,
     "start_time": "2023-01-03T11:03:50.038957",
     "status": "completed"
    },
    "tags": []
   },
   "outputs": [
    {
     "name": "stdout",
     "output_type": "stream",
     "text": [
      "{'<OOV>': 1, 'my': 2, 'love': 3, 'dog': 4, 'i': 5, 'you': 6, 'cat': 7, 'dont': 8, 'think': 9, 'is': 10, 'amazing': 11}\n",
      "[[1, 4, 10, 11], [5, 1, 1, 1, 4], [2, 7, 3, 4, 1, 1]]\n",
      "[[ 0  0  1  4 10 11]\n",
      " [ 0  5  1  1  1  4]\n",
      " [ 2  7  3  4  1  1]]\n"
     ]
    }
   ],
   "source": [
    "# TOKENISATION - ENCODING WORDS TO NUMBERS\n",
    "sentences = [\n",
    "    'I love my dog',\n",
    "    'I love my cat',\n",
    "    'You love my dog',\n",
    "    'Dont you think my dog is amazing'\n",
    "]\n",
    "tokenizer = Tokenizer(num_words=100 , oov_token='<OOV>')\n",
    "tokenizer.fit_on_texts(sentences) # most frequent 100 words\n",
    "word_index = tokenizer.word_index\n",
    "print(word_index)\n",
    "\n",
    "# converting sentences to sequence of numbers \n",
    "test_sentence = [\"Mahika's Dog is amazing\",\"I wanna have a dog\",\"My cat love dog , Doesnt it ?\"]\n",
    "sequences = tokenizer.texts_to_sequences(test_sentence)\n",
    "print(sequences)\n",
    "\n",
    "padded = pad_sequences(sequences)\n",
    "print(padded)\n",
    "\n",
    "# but if the new sentence contains a word not present in the \n",
    "# tokenizer , it will omit it and length of sequence will reduce\n",
    "\n",
    "# to have correct length of sentences , we can use oov_token\n",
    "\n",
    "# for using sentences of various length , we can use PADDING"
   ]
  },
  {
   "cell_type": "code",
   "execution_count": 4,
   "id": "8a9655e2",
   "metadata": {
    "execution": {
     "iopub.execute_input": "2023-01-03T11:03:50.070421Z",
     "iopub.status.busy": "2023-01-03T11:03:50.069795Z",
     "iopub.status.idle": "2023-01-03T11:03:50.254376Z",
     "shell.execute_reply": "2023-01-03T11:03:50.252966Z"
    },
    "papermill": {
     "duration": 0.19262,
     "end_time": "2023-01-03T11:03:50.257268",
     "exception": false,
     "start_time": "2023-01-03T11:03:50.064648",
     "status": "completed"
    },
    "tags": []
   },
   "outputs": [],
   "source": [
    "# LOADING DATA\n",
    "import json\n",
    "\n",
    "datastore = []\n",
    "for line in open('/kaggle/input/news-headlines-dataset-for-sarcasm-detection/Sarcasm_Headlines_Dataset.json', 'r'):\n",
    "    datastore.append(json.loads(line))\n",
    "\n",
    "sentences = []\n",
    "labels = []\n",
    "urls = []\n",
    "for item in datastore:\n",
    "    sentences.append(item['headline'])\n",
    "    labels.append(item['is_sarcastic'])\n",
    "    urls.append(item['article_link'])\n",
    "\n",
    "training_sentences = sentences[0:10000] # training size 10000\n",
    "testing_sentences = sentences[10000:]\n",
    "training_labels = labels[0:10000]\n",
    "testing_labels = labels[10000:]"
   ]
  },
  {
   "cell_type": "code",
   "execution_count": 5,
   "id": "6ef50b6a",
   "metadata": {
    "execution": {
     "iopub.execute_input": "2023-01-03T11:03:50.267104Z",
     "iopub.status.busy": "2023-01-03T11:03:50.265917Z",
     "iopub.status.idle": "2023-01-03T11:03:51.143341Z",
     "shell.execute_reply": "2023-01-03T11:03:51.142167Z"
    },
    "papermill": {
     "duration": 0.88522,
     "end_time": "2023-01-03T11:03:51.146146",
     "exception": false,
     "start_time": "2023-01-03T11:03:50.260926",
     "status": "completed"
    },
    "tags": []
   },
   "outputs": [],
   "source": [
    "# TOKENISING DATA\n",
    "tokenizer = Tokenizer(num_words=10000 , oov_token='<OOV>')\n",
    "tokenizer.fit_on_texts(training_sentences) # most frequent 100 words\n",
    "\n",
    "training_sequences = tokenizer.texts_to_sequences(training_sentences)\n",
    "training_padded = pad_sequences(training_sequences)\n",
    "\n",
    "testing_sequences = tokenizer.texts_to_sequences(testing_sentences)\n",
    "testing_padded = pad_sequences(testing_sequences)"
   ]
  },
  {
   "cell_type": "code",
   "execution_count": 6,
   "id": "19a3f2b0",
   "metadata": {
    "execution": {
     "iopub.execute_input": "2023-01-03T11:03:51.155353Z",
     "iopub.status.busy": "2023-01-03T11:03:51.154494Z",
     "iopub.status.idle": "2023-01-03T11:03:51.167184Z",
     "shell.execute_reply": "2023-01-03T11:03:51.165800Z"
    },
    "papermill": {
     "duration": 0.020469,
     "end_time": "2023-01-03T11:03:51.170198",
     "exception": false,
     "start_time": "2023-01-03T11:03:51.149729",
     "status": "completed"
    },
    "tags": []
   },
   "outputs": [],
   "source": [
    "# need this block to work with tensorflow 2.x\n",
    "import numpy as np\n",
    "training_padded = np.array(training_padded)\n",
    "training_labels = np.array(training_labels)\n",
    "testing_padded = np.array(testing_padded)\n",
    "testing_labels = np.array(testing_labels)"
   ]
  },
  {
   "cell_type": "code",
   "execution_count": 7,
   "id": "f69634b2",
   "metadata": {
    "execution": {
     "iopub.execute_input": "2023-01-03T11:03:51.179518Z",
     "iopub.status.busy": "2023-01-03T11:03:51.179075Z",
     "iopub.status.idle": "2023-01-03T11:03:51.361773Z",
     "shell.execute_reply": "2023-01-03T11:03:51.359980Z"
    },
    "papermill": {
     "duration": 0.190739,
     "end_time": "2023-01-03T11:03:51.364613",
     "exception": false,
     "start_time": "2023-01-03T11:03:51.173874",
     "status": "completed"
    },
    "tags": []
   },
   "outputs": [
    {
     "name": "stderr",
     "output_type": "stream",
     "text": [
      "2023-01-03 11:03:51.236856: I tensorflow/core/common_runtime/process_util.cc:146] Creating new thread pool with default inter op setting: 2. Tune using inter_op_parallelism_threads for best performance.\n"
     ]
    }
   ],
   "source": [
    "# Modeling into neural\n",
    "model = tf.keras.Sequential([\n",
    "    tf.keras.layers.Embedding(10000,16,input_length=100),\n",
    "    tf.keras.layers.GlobalAveragePooling1D(),\n",
    "    tf.keras.layers.Dense(54,activation='relu'),\n",
    "    tf.keras.layers.Dense(44,activation='relu'),\n",
    "    tf.keras.layers.Dense(24,activation='relu'),\n",
    "    tf.keras.layers.Dense(2,activation='softmax')\n",
    "])\n",
    "model.compile(loss='sparse_categorical_crossentropy',optimizer='adam',metrics=['accuracy'])"
   ]
  },
  {
   "cell_type": "code",
   "execution_count": 8,
   "id": "88aea349",
   "metadata": {
    "execution": {
     "iopub.execute_input": "2023-01-03T11:03:51.373937Z",
     "iopub.status.busy": "2023-01-03T11:03:51.373466Z",
     "iopub.status.idle": "2023-01-03T11:05:14.201559Z",
     "shell.execute_reply": "2023-01-03T11:05:14.200462Z"
    },
    "papermill": {
     "duration": 82.836177,
     "end_time": "2023-01-03T11:05:14.204445",
     "exception": false,
     "start_time": "2023-01-03T11:03:51.368268",
     "status": "completed"
    },
    "tags": []
   },
   "outputs": [
    {
     "name": "stderr",
     "output_type": "stream",
     "text": [
      "2023-01-03 11:03:51.472408: I tensorflow/compiler/mlir/mlir_graph_optimization_pass.cc:185] None of the MLIR Optimization Passes are enabled (registered 2)\n"
     ]
    },
    {
     "name": "stdout",
     "output_type": "stream",
     "text": [
      "Epoch 1/30\n",
      "313/313 [==============================] - 3s 8ms/step - loss: 0.5406 - accuracy: 0.7017 - val_loss: 0.3922 - val_accuracy: 0.8275\n",
      "Epoch 2/30\n",
      "313/313 [==============================] - 2s 7ms/step - loss: 0.2634 - accuracy: 0.8953 - val_loss: 0.3926 - val_accuracy: 0.8232\n",
      "Epoch 3/30\n",
      "313/313 [==============================] - 2s 7ms/step - loss: 0.1636 - accuracy: 0.9383 - val_loss: 0.4033 - val_accuracy: 0.8264\n",
      "Epoch 4/30\n",
      "313/313 [==============================] - 2s 7ms/step - loss: 0.1056 - accuracy: 0.9644 - val_loss: 0.5253 - val_accuracy: 0.8112\n",
      "Epoch 5/30\n",
      "313/313 [==============================] - 2s 7ms/step - loss: 0.0673 - accuracy: 0.9788 - val_loss: 0.5417 - val_accuracy: 0.8205\n",
      "Epoch 6/30\n",
      "313/313 [==============================] - 2s 7ms/step - loss: 0.0498 - accuracy: 0.9849 - val_loss: 0.5814 - val_accuracy: 0.8195\n",
      "Epoch 7/30\n",
      "313/313 [==============================] - 2s 7ms/step - loss: 0.0364 - accuracy: 0.9901 - val_loss: 0.6794 - val_accuracy: 0.8151\n",
      "Epoch 8/30\n",
      "313/313 [==============================] - 2s 7ms/step - loss: 0.0275 - accuracy: 0.9924 - val_loss: 0.7293 - val_accuracy: 0.8062\n",
      "Epoch 9/30\n",
      "313/313 [==============================] - 2s 7ms/step - loss: 0.0209 - accuracy: 0.9947 - val_loss: 0.7884 - val_accuracy: 0.8087\n",
      "Epoch 10/30\n",
      "313/313 [==============================] - 2s 7ms/step - loss: 0.0234 - accuracy: 0.9930 - val_loss: 0.8793 - val_accuracy: 0.7911\n",
      "Epoch 11/30\n",
      "313/313 [==============================] - 3s 9ms/step - loss: 0.0257 - accuracy: 0.9922 - val_loss: 0.8078 - val_accuracy: 0.8068\n",
      "Epoch 12/30\n",
      "313/313 [==============================] - 2s 7ms/step - loss: 0.0166 - accuracy: 0.9956 - val_loss: 0.8857 - val_accuracy: 0.8096\n",
      "Epoch 13/30\n",
      "313/313 [==============================] - 2s 7ms/step - loss: 0.0190 - accuracy: 0.9945 - val_loss: 1.0431 - val_accuracy: 0.7939\n",
      "Epoch 14/30\n",
      "313/313 [==============================] - 2s 7ms/step - loss: 0.0126 - accuracy: 0.9968 - val_loss: 0.9665 - val_accuracy: 0.8057\n",
      "Epoch 15/30\n",
      "313/313 [==============================] - 2s 7ms/step - loss: 0.0150 - accuracy: 0.9963 - val_loss: 0.9617 - val_accuracy: 0.8065\n",
      "Epoch 16/30\n",
      "313/313 [==============================] - 2s 7ms/step - loss: 0.0132 - accuracy: 0.9966 - val_loss: 1.0704 - val_accuracy: 0.7836\n",
      "Epoch 17/30\n",
      "313/313 [==============================] - 2s 7ms/step - loss: 0.0094 - accuracy: 0.9973 - val_loss: 1.0548 - val_accuracy: 0.8019\n",
      "Epoch 18/30\n",
      "313/313 [==============================] - 2s 7ms/step - loss: 0.0160 - accuracy: 0.9949 - val_loss: 0.9671 - val_accuracy: 0.8029\n",
      "Epoch 19/30\n",
      "313/313 [==============================] - 2s 7ms/step - loss: 0.0073 - accuracy: 0.9981 - val_loss: 1.1740 - val_accuracy: 0.7987\n",
      "Epoch 20/30\n",
      "313/313 [==============================] - 2s 7ms/step - loss: 0.0080 - accuracy: 0.9980 - val_loss: 1.1155 - val_accuracy: 0.7975\n",
      "Epoch 21/30\n",
      "313/313 [==============================] - 2s 7ms/step - loss: 0.0047 - accuracy: 0.9992 - val_loss: 1.2074 - val_accuracy: 0.7983\n",
      "Epoch 22/30\n",
      "313/313 [==============================] - 2s 7ms/step - loss: 0.0043 - accuracy: 0.9991 - val_loss: 1.1827 - val_accuracy: 0.8026\n",
      "Epoch 23/30\n",
      "313/313 [==============================] - 2s 7ms/step - loss: 0.0047 - accuracy: 0.9986 - val_loss: 1.2374 - val_accuracy: 0.8011\n",
      "Epoch 24/30\n",
      "313/313 [==============================] - 2s 7ms/step - loss: 0.0057 - accuracy: 0.9983 - val_loss: 1.1578 - val_accuracy: 0.7986\n",
      "Epoch 25/30\n",
      "313/313 [==============================] - 3s 8ms/step - loss: 0.0042 - accuracy: 0.9989 - val_loss: 1.2092 - val_accuracy: 0.7986\n",
      "Epoch 26/30\n",
      "313/313 [==============================] - 2s 7ms/step - loss: 0.0083 - accuracy: 0.9974 - val_loss: 1.2065 - val_accuracy: 0.7981\n",
      "Epoch 27/30\n",
      "313/313 [==============================] - 2s 7ms/step - loss: 0.0050 - accuracy: 0.9981 - val_loss: 1.2732 - val_accuracy: 0.7978\n",
      "Epoch 28/30\n",
      "313/313 [==============================] - 2s 7ms/step - loss: 0.0089 - accuracy: 0.9972 - val_loss: 1.1511 - val_accuracy: 0.7940\n",
      "Epoch 29/30\n",
      "313/313 [==============================] - 2s 7ms/step - loss: 0.0086 - accuracy: 0.9967 - val_loss: 1.1634 - val_accuracy: 0.7970\n",
      "Epoch 30/30\n",
      "313/313 [==============================] - 2s 7ms/step - loss: 0.0106 - accuracy: 0.9967 - val_loss: 1.1098 - val_accuracy: 0.7922\n"
     ]
    }
   ],
   "source": [
    "# training data\n",
    "history = model.fit(\n",
    "    training_padded,training_labels,\n",
    "    validation_data=(testing_padded,testing_labels),\n",
    "    epochs=30,\n",
    ")"
   ]
  },
  {
   "cell_type": "code",
   "execution_count": 9,
   "id": "2adc7281",
   "metadata": {
    "execution": {
     "iopub.execute_input": "2023-01-03T11:05:14.324737Z",
     "iopub.status.busy": "2023-01-03T11:05:14.323932Z",
     "iopub.status.idle": "2023-01-03T11:05:14.492605Z",
     "shell.execute_reply": "2023-01-03T11:05:14.491111Z"
    },
    "papermill": {
     "duration": 0.233107,
     "end_time": "2023-01-03T11:05:14.495983",
     "exception": false,
     "start_time": "2023-01-03T11:05:14.262876",
     "status": "completed"
    },
    "tags": []
   },
   "outputs": [
    {
     "name": "stdout",
     "output_type": "stream",
     "text": [
      "[[1.000000e+00 1.412738e-11]]\n"
     ]
    }
   ],
   "source": [
    "# testing with new sentences\n",
    "sentences= [\"My name is amita Bansal\"]\n",
    "\n",
    "test_seq = tokenizer.texts_to_sequences(sentences)\n",
    "padded = pad_sequences(test_seq)\n",
    "\n",
    "print(model.predict(padded))"
   ]
  },
  {
   "cell_type": "code",
   "execution_count": null,
   "id": "f324b239",
   "metadata": {
    "papermill": {
     "duration": 0.056017,
     "end_time": "2023-01-03T11:05:14.612449",
     "exception": false,
     "start_time": "2023-01-03T11:05:14.556432",
     "status": "completed"
    },
    "tags": []
   },
   "outputs": [],
   "source": []
  }
 ],
 "metadata": {
  "kernelspec": {
   "display_name": "Python 3",
   "language": "python",
   "name": "python3"
  },
  "language_info": {
   "codemirror_mode": {
    "name": "ipython",
    "version": 3
   },
   "file_extension": ".py",
   "mimetype": "text/x-python",
   "name": "python",
   "nbconvert_exporter": "python",
   "pygments_lexer": "ipython3",
   "version": "3.7.12"
  },
  "papermill": {
   "default_parameters": {},
   "duration": 104.30246,
   "end_time": "2023-01-03T11:05:17.310419",
   "environment_variables": {},
   "exception": null,
   "input_path": "__notebook__.ipynb",
   "output_path": "__notebook__.ipynb",
   "parameters": {},
   "start_time": "2023-01-03T11:03:33.007959",
   "version": "2.3.4"
  }
 },
 "nbformat": 4,
 "nbformat_minor": 5
}
