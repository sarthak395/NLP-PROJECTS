{
 "cells": [
  {
   "cell_type": "code",
   "execution_count": 1,
   "id": "b33d351a",
   "metadata": {
    "_cell_guid": "b1076dfc-b9ad-4769-8c92-a6c4dae69d19",
    "_uuid": "8f2839f25d086af736a60e9eeb907d3b93b6e0e5",
    "execution": {
     "iopub.execute_input": "2023-01-03T10:58:19.334186Z",
     "iopub.status.busy": "2023-01-03T10:58:19.333602Z",
     "iopub.status.idle": "2023-01-03T10:58:19.348104Z",
     "shell.execute_reply": "2023-01-03T10:58:19.346860Z"
    },
    "papermill": {
     "duration": 0.024695,
     "end_time": "2023-01-03T10:58:19.351466",
     "exception": false,
     "start_time": "2023-01-03T10:58:19.326771",
     "status": "completed"
    },
    "tags": []
   },
   "outputs": [
    {
     "name": "stdout",
     "output_type": "stream",
     "text": [
      "/kaggle/input/feedback-prize-english-language-learning/sample_submission.csv\n",
      "/kaggle/input/feedback-prize-english-language-learning/train.csv\n",
      "/kaggle/input/feedback-prize-english-language-learning/test.csv\n"
     ]
    }
   ],
   "source": [
    "# This Python 3 environment comes with many helpful analytics libraries installed\n",
    "# It is defined by the kaggle/python Docker image: https://github.com/kaggle/docker-python\n",
    "# For example, here's several helpful packages to load\n",
    "\n",
    "import numpy as np # linear algebra\n",
    "import pandas as pd # data processing, CSV file I/O (e.g. pd.read_csv)\n",
    "\n",
    "# Input data files are available in the read-only \"../input/\" directory\n",
    "# For example, running this (by clicking run or pressing Shift+Enter) will list all files under the input directory\n",
    "\n",
    "import os\n",
    "for dirname, _, filenames in os.walk('/kaggle/input'):\n",
    "    for filename in filenames:\n",
    "        print(os.path.join(dirname, filename))\n",
    "\n",
    "# You can write up to 20GB to the current directory (/kaggle/working/) that gets preserved as output when you create a version using \"Save & Run All\" \n",
    "# You can also write temporary files to /kaggle/temp/, but they won't be saved outside of the current session"
   ]
  },
  {
   "cell_type": "code",
   "execution_count": 2,
   "id": "7002acc9",
   "metadata": {
    "execution": {
     "iopub.execute_input": "2023-01-03T10:58:19.360832Z",
     "iopub.status.busy": "2023-01-03T10:58:19.360341Z",
     "iopub.status.idle": "2023-01-03T10:58:26.991991Z",
     "shell.execute_reply": "2023-01-03T10:58:26.990864Z"
    },
    "papermill": {
     "duration": 7.639424,
     "end_time": "2023-01-03T10:58:26.994828",
     "exception": false,
     "start_time": "2023-01-03T10:58:19.355404",
     "status": "completed"
    },
    "tags": []
   },
   "outputs": [],
   "source": [
    "import tensorflow as tf\n",
    "from tensorflow import keras\n",
    "from tensorflow.keras.preprocessing.text import Tokenizer\n",
    "from tensorflow.keras.preprocessing.sequence import pad_sequences"
   ]
  },
  {
   "cell_type": "code",
   "execution_count": 3,
   "id": "dad5f98e",
   "metadata": {
    "execution": {
     "iopub.execute_input": "2023-01-03T10:58:27.004020Z",
     "iopub.status.busy": "2023-01-03T10:58:27.003199Z",
     "iopub.status.idle": "2023-01-03T10:58:27.263286Z",
     "shell.execute_reply": "2023-01-03T10:58:27.261628Z"
    },
    "papermill": {
     "duration": 0.268279,
     "end_time": "2023-01-03T10:58:27.266494",
     "exception": false,
     "start_time": "2023-01-03T10:58:26.998215",
     "status": "completed"
    },
    "tags": []
   },
   "outputs": [],
   "source": [
    "# FETCHING DATA\n",
    "\n",
    "data_train = pd.read_csv('/kaggle/input/feedback-prize-english-language-learning/train.csv')\n",
    "data_valid = pd.read_csv('/kaggle/input/feedback-prize-english-language-learning/test.csv')\n",
    "\n",
    "sentences_tr = np.array(data_train['full_text'])\n",
    "grammer_score_tr = np.array(data_train['grammar'])\n",
    "\n",
    "max_len = max(len(x) for x in sentences_tr)"
   ]
  },
  {
   "cell_type": "code",
   "execution_count": 4,
   "id": "c7371f66",
   "metadata": {
    "execution": {
     "iopub.execute_input": "2023-01-03T10:58:27.275963Z",
     "iopub.status.busy": "2023-01-03T10:58:27.274738Z",
     "iopub.status.idle": "2023-01-03T10:58:29.348216Z",
     "shell.execute_reply": "2023-01-03T10:58:29.346502Z"
    },
    "papermill": {
     "duration": 2.081293,
     "end_time": "2023-01-03T10:58:29.351313",
     "exception": false,
     "start_time": "2023-01-03T10:58:27.270020",
     "status": "completed"
    },
    "tags": []
   },
   "outputs": [],
   "source": [
    "# TOKENISING DATA\n",
    "min_words = 10000\n",
    "\n",
    "tokeniser = Tokenizer(num_words=min_words,oov_token='<OOV>') # oov = out of vocabulary\n",
    "tokeniser.fit_on_texts(sentences_tr)\n",
    "\n",
    "total_words = tokeniser.word_index.items()\n",
    "num_words = len(tokeniser.word_index)\n",
    "\n",
    "#padding\n",
    "sentences_tr_seq = tokeniser.texts_to_sequences(sentences_tr)\n",
    "sentences_tr_pad = pad_sequences(sentences_tr_seq)"
   ]
  },
  {
   "cell_type": "code",
   "execution_count": 5,
   "id": "7ca875fb",
   "metadata": {
    "execution": {
     "iopub.execute_input": "2023-01-03T10:58:29.360373Z",
     "iopub.status.busy": "2023-01-03T10:58:29.359872Z",
     "iopub.status.idle": "2023-01-03T10:58:29.376663Z",
     "shell.execute_reply": "2023-01-03T10:58:29.375276Z"
    },
    "papermill": {
     "duration": 0.02477,
     "end_time": "2023-01-03T10:58:29.379766",
     "exception": false,
     "start_time": "2023-01-03T10:58:29.354996",
     "status": "completed"
    },
    "tags": []
   },
   "outputs": [],
   "source": [
    "import numpy as np\n",
    "training_padded = np.array(sentences_tr_pad)\n",
    "training_labels = np.array(grammer_score_tr)"
   ]
  },
  {
   "cell_type": "code",
   "execution_count": 6,
   "id": "cbce2806",
   "metadata": {
    "execution": {
     "iopub.execute_input": "2023-01-03T10:58:29.388641Z",
     "iopub.status.busy": "2023-01-03T10:58:29.388171Z",
     "iopub.status.idle": "2023-01-03T10:58:29.768939Z",
     "shell.execute_reply": "2023-01-03T10:58:29.767596Z"
    },
    "papermill": {
     "duration": 0.388785,
     "end_time": "2023-01-03T10:58:29.772041",
     "exception": false,
     "start_time": "2023-01-03T10:58:29.383256",
     "status": "completed"
    },
    "tags": []
   },
   "outputs": [
    {
     "name": "stderr",
     "output_type": "stream",
     "text": [
      "2023-01-03 10:58:29.442008: I tensorflow/core/common_runtime/process_util.cc:146] Creating new thread pool with default inter op setting: 2. Tune using inter_op_parallelism_threads for best performance.\n"
     ]
    }
   ],
   "source": [
    "from tensorflow.keras import callbacks\n",
    "\n",
    "early_stopping = callbacks.EarlyStopping(\n",
    "    min_delta=0.001, # minimium amount of change to count as an improvement\n",
    "    patience=5, # how many epochs to wait before stopping\n",
    "    restore_best_weights=True,\n",
    ")\n",
    "\n",
    "model = tf.keras.Sequential([\n",
    "    tf.keras.layers.Embedding(num_words,34,input_length = max_len),\n",
    "     tf.keras.layers.GlobalAveragePooling1D(),\n",
    "    tf.keras.layers.Dense(1000,activation='relu'),\n",
    "    tf.keras.layers.Dense(100,activation='relu'),\n",
    "    tf.keras.layers.Dense(10,activation='relu'),\n",
    "    tf.keras.layers.Dense(1)\n",
    "])\n",
    "\n",
    "model.compile(\n",
    "    optimizer=\"adam\",\n",
    "    loss=\"mae\",\n",
    ")"
   ]
  },
  {
   "cell_type": "code",
   "execution_count": 7,
   "id": "e4e1f216",
   "metadata": {
    "execution": {
     "iopub.execute_input": "2023-01-03T10:58:29.781184Z",
     "iopub.status.busy": "2023-01-03T10:58:29.780695Z",
     "iopub.status.idle": "2023-01-03T10:59:53.435840Z",
     "shell.execute_reply": "2023-01-03T10:59:53.434536Z"
    },
    "papermill": {
     "duration": 83.663812,
     "end_time": "2023-01-03T10:59:53.439442",
     "exception": false,
     "start_time": "2023-01-03T10:58:29.775630",
     "status": "completed"
    },
    "tags": []
   },
   "outputs": [
    {
     "name": "stderr",
     "output_type": "stream",
     "text": [
      "2023-01-03 10:58:29.892846: I tensorflow/compiler/mlir/mlir_graph_optimization_pass.cc:185] None of the MLIR Optimization Passes are enabled (registered 2)\n"
     ]
    },
    {
     "name": "stdout",
     "output_type": "stream",
     "text": [
      "Epoch 1/50\n",
      "123/123 [==============================] - 2s 13ms/step - loss: 0.8967\n",
      "Epoch 2/50\n",
      "123/123 [==============================] - 2s 12ms/step - loss: 0.5402\n",
      "Epoch 3/50\n",
      "123/123 [==============================] - 2s 12ms/step - loss: 0.4956\n",
      "Epoch 4/50\n",
      "123/123 [==============================] - 2s 12ms/step - loss: 0.4634\n",
      "Epoch 5/50\n",
      "123/123 [==============================] - 2s 13ms/step - loss: 0.4382\n",
      "Epoch 6/50\n",
      "123/123 [==============================] - 2s 13ms/step - loss: 0.4142\n",
      "Epoch 7/50\n",
      "123/123 [==============================] - 2s 13ms/step - loss: 0.3906\n",
      "Epoch 8/50\n",
      "123/123 [==============================] - 2s 14ms/step - loss: 0.3728\n",
      "Epoch 9/50\n",
      "123/123 [==============================] - 2s 13ms/step - loss: 0.3551\n",
      "Epoch 10/50\n",
      "123/123 [==============================] - 2s 13ms/step - loss: 0.3415\n",
      "Epoch 11/50\n",
      "123/123 [==============================] - 2s 19ms/step - loss: 0.3121\n",
      "Epoch 12/50\n",
      "123/123 [==============================] - 2s 13ms/step - loss: 0.2984\n",
      "Epoch 13/50\n",
      "123/123 [==============================] - 2s 13ms/step - loss: 0.2842\n",
      "Epoch 14/50\n",
      "123/123 [==============================] - 2s 14ms/step - loss: 0.2736\n",
      "Epoch 15/50\n",
      "123/123 [==============================] - 2s 14ms/step - loss: 0.2619\n",
      "Epoch 16/50\n",
      "123/123 [==============================] - 2s 13ms/step - loss: 0.2451\n",
      "Epoch 17/50\n",
      "123/123 [==============================] - 2s 13ms/step - loss: 0.2396\n",
      "Epoch 18/50\n",
      "123/123 [==============================] - 2s 13ms/step - loss: 0.2299\n",
      "Epoch 19/50\n",
      "123/123 [==============================] - 1s 12ms/step - loss: 0.2242\n",
      "Epoch 20/50\n",
      "123/123 [==============================] - 2s 13ms/step - loss: 0.2168\n",
      "Epoch 21/50\n",
      "123/123 [==============================] - 2s 13ms/step - loss: 0.2032\n",
      "Epoch 22/50\n",
      "123/123 [==============================] - 2s 13ms/step - loss: 0.2037\n",
      "Epoch 23/50\n",
      "123/123 [==============================] - 2s 13ms/step - loss: 0.1922\n",
      "Epoch 24/50\n",
      "123/123 [==============================] - 2s 13ms/step - loss: 0.1865\n",
      "Epoch 25/50\n",
      "123/123 [==============================] - 2s 13ms/step - loss: 0.1872\n",
      "Epoch 26/50\n",
      "123/123 [==============================] - 2s 13ms/step - loss: 0.1777\n",
      "Epoch 27/50\n",
      "123/123 [==============================] - 2s 13ms/step - loss: 0.1682\n",
      "Epoch 28/50\n",
      "123/123 [==============================] - 2s 14ms/step - loss: 0.1623\n",
      "Epoch 29/50\n",
      "123/123 [==============================] - 2s 13ms/step - loss: 0.1567\n",
      "Epoch 30/50\n",
      "123/123 [==============================] - 2s 19ms/step - loss: 0.1693\n",
      "Epoch 31/50\n",
      "123/123 [==============================] - 2s 13ms/step - loss: 0.1544\n",
      "Epoch 32/50\n",
      "123/123 [==============================] - 2s 13ms/step - loss: 0.1539\n",
      "Epoch 33/50\n",
      "123/123 [==============================] - 2s 13ms/step - loss: 0.1512\n",
      "Epoch 34/50\n",
      "123/123 [==============================] - 2s 14ms/step - loss: 0.1521\n",
      "Epoch 35/50\n",
      "123/123 [==============================] - 2s 13ms/step - loss: 0.1401\n",
      "Epoch 36/50\n",
      "123/123 [==============================] - 2s 13ms/step - loss: 0.1651\n",
      "Epoch 37/50\n",
      "123/123 [==============================] - 2s 13ms/step - loss: 0.1373\n",
      "Epoch 38/50\n",
      "123/123 [==============================] - 2s 14ms/step - loss: 0.1356\n",
      "Epoch 39/50\n",
      "123/123 [==============================] - 2s 13ms/step - loss: 0.1379\n",
      "Epoch 40/50\n",
      "123/123 [==============================] - 2s 13ms/step - loss: 0.1352\n",
      "Epoch 41/50\n",
      "123/123 [==============================] - 2s 14ms/step - loss: 0.1285\n",
      "Epoch 42/50\n",
      "123/123 [==============================] - 2s 13ms/step - loss: 0.1241\n",
      "Epoch 43/50\n",
      "123/123 [==============================] - 2s 13ms/step - loss: 0.1188\n",
      "Epoch 44/50\n",
      "123/123 [==============================] - 2s 13ms/step - loss: 0.1209\n",
      "Epoch 45/50\n",
      "123/123 [==============================] - 2s 13ms/step - loss: 0.1219\n",
      "Epoch 46/50\n",
      "123/123 [==============================] - 2s 13ms/step - loss: 0.1108\n",
      "Epoch 47/50\n",
      "123/123 [==============================] - 2s 13ms/step - loss: 0.1118\n",
      "Epoch 48/50\n",
      "123/123 [==============================] - 2s 14ms/step - loss: 0.1120\n",
      "Epoch 49/50\n",
      "123/123 [==============================] - 2s 18ms/step - loss: 0.1094\n",
      "Epoch 50/50\n",
      "123/123 [==============================] - 2s 13ms/step - loss: 0.1181\n"
     ]
    }
   ],
   "source": [
    "history = model.fit(\n",
    "    training_padded,training_labels,\n",
    "    epochs = 50,\n",
    "    callbacks = [early_stopping]\n",
    ")"
   ]
  },
  {
   "cell_type": "code",
   "execution_count": 8,
   "id": "2f55a990",
   "metadata": {
    "execution": {
     "iopub.execute_input": "2023-01-03T10:59:53.643510Z",
     "iopub.status.busy": "2023-01-03T10:59:53.641965Z",
     "iopub.status.idle": "2023-01-03T10:59:53.965843Z",
     "shell.execute_reply": "2023-01-03T10:59:53.964231Z"
    },
    "papermill": {
     "duration": 0.427651,
     "end_time": "2023-01-03T10:59:53.968953",
     "exception": false,
     "start_time": "2023-01-03T10:59:53.541302",
     "status": "completed"
    },
    "tags": []
   },
   "outputs": [
    {
     "data": {
      "text/plain": [
       "<AxesSubplot:>"
      ]
     },
     "execution_count": 8,
     "metadata": {},
     "output_type": "execute_result"
    },
    {
     "data": {
      "image/png": "[encoded data removed]",
      "text/plain": [
       "<Figure size 432x288 with 1 Axes>"
      ]
     },
     "metadata": {
      "needs_background": "light"
     },
     "output_type": "display_data"
    }
   ],
   "source": [
    "history_frame = pd.DataFrame(history.history)\n",
    "history_frame.loc[:, ['loss']].plot()"
   ]
  },
  {
   "cell_type": "code",
   "execution_count": 9,
   "id": "77010a43",
   "metadata": {
    "execution": {
     "iopub.execute_input": "2023-01-03T10:59:54.172707Z",
     "iopub.status.busy": "2023-01-03T10:59:54.172005Z",
     "iopub.status.idle": "2023-01-03T10:59:54.354821Z",
     "shell.execute_reply": "2023-01-03T10:59:54.352463Z"
    },
    "papermill": {
     "duration": 0.28917,
     "end_time": "2023-01-03T10:59:54.359106",
     "exception": false,
     "start_time": "2023-01-03T10:59:54.069936",
     "status": "completed"
    },
    "tags": []
   },
   "outputs": [
    {
     "name": "stdout",
     "output_type": "stream",
     "text": [
      "[[2.2150252]\n",
      " [2.4021266]\n",
      " [3.2880664]]\n"
     ]
    }
   ],
   "source": [
    "sentences_test = np.array(data_valid['full_text'])\n",
    "sentences_test_seq = tokeniser.texts_to_sequences(sentences_test)\n",
    "sentences_test_pad = pad_sequences(sentences_test_seq)\n",
    "\n",
    "grammar_sc = model.predict(sentences_test_pad)\n",
    "print(grammar_sc)"
   ]
  },
  {
   "cell_type": "code",
   "execution_count": null,
   "id": "3628ad4a",
   "metadata": {
    "papermill": {
     "duration": 0.098708,
     "end_time": "2023-01-03T10:59:54.555854",
     "exception": false,
     "start_time": "2023-01-03T10:59:54.457146",
     "status": "completed"
    },
    "tags": []
   },
   "outputs": [],
   "source": []
  }
 ],
 "metadata": {
  "kernelspec": {
   "display_name": "Python 3",
   "language": "python",
   "name": "python3"
  },
  "language_info": {
   "codemirror_mode": {
    "name": "ipython",
    "version": 3
   },
   "file_extension": ".py",
   "mimetype": "text/x-python",
   "name": "python",
   "nbconvert_exporter": "python",
   "pygments_lexer": "ipython3",
   "version": "3.7.12"
  },
  "papermill": {
   "default_parameters": {},
   "duration": 108.368035,
   "end_time": "2023-01-03T10:59:58.081326",
   "environment_variables": {},
   "exception": null,
   "input_path": "__notebook__.ipynb",
   "output_path": "__notebook__.ipynb",
   "parameters": {},
   "start_time": "2023-01-03T10:58:09.713291",
   "version": "2.3.4"
  }
 },
 "nbformat": 4,
 "nbformat_minor": 5
}
